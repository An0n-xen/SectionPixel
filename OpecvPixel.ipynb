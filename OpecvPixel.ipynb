{
 "cells": [
  {
   "cell_type": "code",
   "execution_count": 24,
   "id": "425571e3",
   "metadata": {},
   "outputs": [],
   "source": [
    "import cv2\n",
    "import numpy as np\n",
    "import time "
   ]
  },
  {
   "cell_type": "code",
   "execution_count": 27,
   "id": "87a6e123",
   "metadata": {},
   "outputs": [],
   "source": [
    "def colorDetect(B,G,R):\n",
    "    global BGR, frame_count\n",
    "    # Colors\n",
    "    BGR = (round(B),round(G),round(R))\n",
    "    ColorBGR = ['Blue','Green','Red']\n",
    "    boundary = 120\n",
    "    BGR_ = np.array(BGR).max()\n",
    "\n",
    "    # Makinng pixelss\n",
    "    cv2.rectangle(frame,pointUp,pointDown,BGR,-1)"
   ]
  },
  {
   "cell_type": "code",
   "execution_count": 28,
   "id": "f51f80e0",
   "metadata": {},
   "outputs": [],
   "source": [
    "#Cropping image\n",
    "def imgCrop(_array):\n",
    "    p1 = _array[0]\n",
    "    p2 = _array[1]\n",
    "    \n",
    "    # Cropping image\n",
    "    cropped_image = frame[p1[1]:p2[1],p1[0]:p2[0]]\n",
    "    B,G,R = cv2.split(cropped_image)\n",
    "    \n",
    "    # Getting mean for each color channel\n",
    "    B = np.array(B).mean()\n",
    "    G = np.array(G).mean()\n",
    "    R = np.array(R).mean()\n",
    "    \n",
    "    # Color Detect function\n",
    "    colorDetect(B,G,R)"
   ]
  },
  {
   "cell_type": "code",
   "execution_count": 29,
   "id": "1f3ccc7e",
   "metadata": {},
   "outputs": [],
   "source": [
    "# Calculating midpoint\n",
    "def getMid(_frame):\n",
    "    global pointUp, pointDown\n",
    "    w,h = _frame.shape[:2]\n",
    "    distance = 50\n",
    "    #Getting midpoint x ,   y\n",
    "    midpoint = (int(h/2),int(w/2))\n",
    "    \n",
    "    pointUp = (int(midpoint[0]-distance),int(midpoint[1]-distance))\n",
    "    pointDown = (int(midpoint[0]+distance),int(midpoint[1]+distance))\n",
    "    \n",
    "    cv2.circle(frame,midpoint,3,(0,255,0),-1)\n",
    "    \n",
    "    cv2.rectangle(frame,pointUp,pointDown,(0,0,0),2)\n",
    "    \n",
    "    # Crop image function\n",
    "    imgCrop([pointUp,pointDown])\n",
    "    \n",
    "#     cv2.circle(frame,pointUp,3,(0,0,0),-1)\n",
    "#     cv2.circle(frame,pointDown,3,(0,0,0),-1)"
   ]
  },
  {
   "cell_type": "code",
   "execution_count": 30,
   "id": "debd91ad",
   "metadata": {},
   "outputs": [
    {
     "name": "stdout",
     "output_type": "stream",
     "text": [
      "Paper Door initiate\n",
      "Paper Door initiate\n",
      "Paper Door initiate\n"
     ]
    }
   ],
   "source": [
    "cap = cv2.VideoCapture(0)\n",
    "\n",
    "frame_count = 0\n",
    "while True:\n",
    "    ret,frame = cap.read()\n",
    "    #frame = cv2.cvtColor(frame,cv2.COLOR_BGR2RGB)\n",
    "    getMid(frame)\n",
    "    \n",
    "    cv2.imshow('frame',frame)\n",
    "    key = cv2.waitKey(1) & 0xff\n",
    "\n",
    "    frame_count += 1\n",
    "    \n",
    "    if key == ord('z'):\n",
    "        break\n",
    "\n",
    "    elif key == ord('t'):\n",
    "        print(BGR)\n",
    "        \n",
    "cap.release()\n",
    "cv2.destroyAllWindows()"
   ]
  },
  {
   "cell_type": "code",
   "execution_count": null,
   "id": "158f4d68",
   "metadata": {},
   "outputs": [],
   "source": []
  },
  {
   "cell_type": "code",
   "execution_count": null,
   "id": "d155cc98",
   "metadata": {},
   "outputs": [],
   "source": []
  }
 ],
 "metadata": {
  "kernelspec": {
   "display_name": "Python 3.9.12 ('base')",
   "language": "python",
   "name": "python3"
  },
  "language_info": {
   "codemirror_mode": {
    "name": "ipython",
    "version": 3
   },
   "file_extension": ".py",
   "mimetype": "text/x-python",
   "name": "python",
   "nbconvert_exporter": "python",
   "pygments_lexer": "ipython3",
   "version": "3.9.12"
  },
  "vscode": {
   "interpreter": {
    "hash": "ff4f85d6e04298634172ac5d8264e7e9b556b95639fe52ebb9425c4d4cba0c9c"
   }
  }
 },
 "nbformat": 4,
 "nbformat_minor": 5
}
